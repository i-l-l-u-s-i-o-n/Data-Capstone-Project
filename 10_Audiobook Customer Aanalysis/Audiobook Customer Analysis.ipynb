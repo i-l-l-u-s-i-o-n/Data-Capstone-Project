{
 "cells": [
  {
   "cell_type": "markdown",
   "metadata": {},
   "source": [
    "<h1 align='center'> AudioBook Customer Analysis</h1>\n",
    "<h5 align='center'> ~by Shivam Shukla </h5>\n",
    "\n",
    "\n",
    "\n",
    "\n",
    "* Predicting whether the customer will again buy another audiobook or not!!!!\n",
    "\n",
    "It will help the company to focus more on the customers who are more likey to buy the audiobook next time."
   ]
  },
  {
   "cell_type": "code",
   "execution_count": 1,
   "metadata": {},
   "outputs": [],
   "source": [
    "import pandas as pd\n",
    "import numpy as np"
   ]
  },
  {
   "cell_type": "code",
   "execution_count": 2,
   "metadata": {},
   "outputs": [],
   "source": [
    "data  = pd.read_csv('original (1).csv',header=None)"
   ]
  },
  {
   "cell_type": "code",
   "execution_count": 3,
   "metadata": {},
   "outputs": [
    {
     "data": {
      "text/html": [
       "<div>\n",
       "<style scoped>\n",
       "    .dataframe tbody tr th:only-of-type {\n",
       "        vertical-align: middle;\n",
       "    }\n",
       "\n",
       "    .dataframe tbody tr th {\n",
       "        vertical-align: top;\n",
       "    }\n",
       "\n",
       "    .dataframe thead th {\n",
       "        text-align: right;\n",
       "    }\n",
       "</style>\n",
       "<table border=\"1\" class=\"dataframe\">\n",
       "  <thead>\n",
       "    <tr style=\"text-align: right;\">\n",
       "      <th></th>\n",
       "      <th>0</th>\n",
       "      <th>1</th>\n",
       "      <th>2</th>\n",
       "      <th>3</th>\n",
       "      <th>4</th>\n",
       "      <th>5</th>\n",
       "      <th>6</th>\n",
       "      <th>7</th>\n",
       "      <th>8</th>\n",
       "      <th>9</th>\n",
       "      <th>10</th>\n",
       "      <th>11</th>\n",
       "    </tr>\n",
       "  </thead>\n",
       "  <tbody>\n",
       "    <tr>\n",
       "      <td>0</td>\n",
       "      <td>994</td>\n",
       "      <td>1620.0</td>\n",
       "      <td>1620</td>\n",
       "      <td>19.73</td>\n",
       "      <td>19.73</td>\n",
       "      <td>1</td>\n",
       "      <td>10.00</td>\n",
       "      <td>0.99</td>\n",
       "      <td>1603.8</td>\n",
       "      <td>5</td>\n",
       "      <td>92</td>\n",
       "      <td>0</td>\n",
       "    </tr>\n",
       "    <tr>\n",
       "      <td>1</td>\n",
       "      <td>1143</td>\n",
       "      <td>2160.0</td>\n",
       "      <td>2160</td>\n",
       "      <td>5.33</td>\n",
       "      <td>5.33</td>\n",
       "      <td>0</td>\n",
       "      <td>8.91</td>\n",
       "      <td>0.00</td>\n",
       "      <td>0.0</td>\n",
       "      <td>0</td>\n",
       "      <td>0</td>\n",
       "      <td>0</td>\n",
       "    </tr>\n",
       "    <tr>\n",
       "      <td>2</td>\n",
       "      <td>2059</td>\n",
       "      <td>2160.0</td>\n",
       "      <td>2160</td>\n",
       "      <td>5.33</td>\n",
       "      <td>5.33</td>\n",
       "      <td>0</td>\n",
       "      <td>8.91</td>\n",
       "      <td>0.00</td>\n",
       "      <td>0.0</td>\n",
       "      <td>0</td>\n",
       "      <td>388</td>\n",
       "      <td>0</td>\n",
       "    </tr>\n",
       "    <tr>\n",
       "      <td>3</td>\n",
       "      <td>2882</td>\n",
       "      <td>1620.0</td>\n",
       "      <td>1620</td>\n",
       "      <td>5.96</td>\n",
       "      <td>5.96</td>\n",
       "      <td>0</td>\n",
       "      <td>8.91</td>\n",
       "      <td>0.42</td>\n",
       "      <td>680.4</td>\n",
       "      <td>1</td>\n",
       "      <td>129</td>\n",
       "      <td>0</td>\n",
       "    </tr>\n",
       "    <tr>\n",
       "      <td>4</td>\n",
       "      <td>3342</td>\n",
       "      <td>2160.0</td>\n",
       "      <td>2160</td>\n",
       "      <td>5.33</td>\n",
       "      <td>5.33</td>\n",
       "      <td>0</td>\n",
       "      <td>8.91</td>\n",
       "      <td>0.22</td>\n",
       "      <td>475.2</td>\n",
       "      <td>0</td>\n",
       "      <td>361</td>\n",
       "      <td>0</td>\n",
       "    </tr>\n",
       "  </tbody>\n",
       "</table>\n",
       "</div>"
      ],
      "text/plain": [
       "     0       1     2      3      4   5      6     7       8   9    10  11\n",
       "0   994  1620.0  1620  19.73  19.73   1  10.00  0.99  1603.8   5   92   0\n",
       "1  1143  2160.0  2160   5.33   5.33   0   8.91  0.00     0.0   0    0   0\n",
       "2  2059  2160.0  2160   5.33   5.33   0   8.91  0.00     0.0   0  388   0\n",
       "3  2882  1620.0  1620   5.96   5.96   0   8.91  0.42   680.4   1  129   0\n",
       "4  3342  2160.0  2160   5.33   5.33   0   8.91  0.22   475.2   0  361   0"
      ]
     },
     "execution_count": 3,
     "metadata": {},
     "output_type": "execute_result"
    }
   ],
   "source": [
    "data.head()"
   ]
  },
  {
   "cell_type": "code",
   "execution_count": 4,
   "metadata": {},
   "outputs": [
    {
     "data": {
      "text/html": [
       "<div>\n",
       "<style scoped>\n",
       "    .dataframe tbody tr th:only-of-type {\n",
       "        vertical-align: middle;\n",
       "    }\n",
       "\n",
       "    .dataframe tbody tr th {\n",
       "        vertical-align: top;\n",
       "    }\n",
       "\n",
       "    .dataframe thead th {\n",
       "        text-align: right;\n",
       "    }\n",
       "</style>\n",
       "<table border=\"1\" class=\"dataframe\">\n",
       "  <thead>\n",
       "    <tr style=\"text-align: right;\">\n",
       "      <th></th>\n",
       "      <th>0</th>\n",
       "      <th>1</th>\n",
       "      <th>2</th>\n",
       "      <th>3</th>\n",
       "      <th>4</th>\n",
       "      <th>5</th>\n",
       "      <th>6</th>\n",
       "      <th>7</th>\n",
       "      <th>8</th>\n",
       "      <th>9</th>\n",
       "      <th>10</th>\n",
       "      <th>11</th>\n",
       "    </tr>\n",
       "  </thead>\n",
       "  <tbody>\n",
       "    <tr>\n",
       "      <td>count</td>\n",
       "      <td>14084.000000</td>\n",
       "      <td>14084.000000</td>\n",
       "      <td>14084.000000</td>\n",
       "      <td>14084.000000</td>\n",
       "      <td>14084.000000</td>\n",
       "      <td>14084.000000</td>\n",
       "      <td>14084.000000</td>\n",
       "      <td>14084.000000</td>\n",
       "      <td>14084.000000</td>\n",
       "      <td>14084.000000</td>\n",
       "      <td>14084.000000</td>\n",
       "      <td>14084.000000</td>\n",
       "    </tr>\n",
       "    <tr>\n",
       "      <td>mean</td>\n",
       "      <td>16772.491551</td>\n",
       "      <td>1591.281685</td>\n",
       "      <td>1678.608634</td>\n",
       "      <td>7.103791</td>\n",
       "      <td>7.543805</td>\n",
       "      <td>0.160750</td>\n",
       "      <td>8.909795</td>\n",
       "      <td>0.125659</td>\n",
       "      <td>189.888983</td>\n",
       "      <td>0.070222</td>\n",
       "      <td>61.935033</td>\n",
       "      <td>0.158833</td>\n",
       "    </tr>\n",
       "    <tr>\n",
       "      <td>std</td>\n",
       "      <td>9691.807248</td>\n",
       "      <td>504.340663</td>\n",
       "      <td>654.838599</td>\n",
       "      <td>4.931673</td>\n",
       "      <td>5.560129</td>\n",
       "      <td>0.367313</td>\n",
       "      <td>0.643406</td>\n",
       "      <td>0.241206</td>\n",
       "      <td>371.084010</td>\n",
       "      <td>0.472157</td>\n",
       "      <td>88.207634</td>\n",
       "      <td>0.365533</td>\n",
       "    </tr>\n",
       "    <tr>\n",
       "      <td>min</td>\n",
       "      <td>2.000000</td>\n",
       "      <td>216.000000</td>\n",
       "      <td>216.000000</td>\n",
       "      <td>3.860000</td>\n",
       "      <td>3.860000</td>\n",
       "      <td>0.000000</td>\n",
       "      <td>1.000000</td>\n",
       "      <td>0.000000</td>\n",
       "      <td>0.000000</td>\n",
       "      <td>0.000000</td>\n",
       "      <td>0.000000</td>\n",
       "      <td>0.000000</td>\n",
       "    </tr>\n",
       "    <tr>\n",
       "      <td>25%</td>\n",
       "      <td>8368.000000</td>\n",
       "      <td>1188.000000</td>\n",
       "      <td>1188.000000</td>\n",
       "      <td>5.330000</td>\n",
       "      <td>5.330000</td>\n",
       "      <td>0.000000</td>\n",
       "      <td>8.910000</td>\n",
       "      <td>0.000000</td>\n",
       "      <td>0.000000</td>\n",
       "      <td>0.000000</td>\n",
       "      <td>0.000000</td>\n",
       "      <td>0.000000</td>\n",
       "    </tr>\n",
       "    <tr>\n",
       "      <td>50%</td>\n",
       "      <td>16711.500000</td>\n",
       "      <td>1620.000000</td>\n",
       "      <td>1620.000000</td>\n",
       "      <td>5.950000</td>\n",
       "      <td>6.070000</td>\n",
       "      <td>0.000000</td>\n",
       "      <td>8.910000</td>\n",
       "      <td>0.000000</td>\n",
       "      <td>0.000000</td>\n",
       "      <td>0.000000</td>\n",
       "      <td>11.000000</td>\n",
       "      <td>0.000000</td>\n",
       "    </tr>\n",
       "    <tr>\n",
       "      <td>75%</td>\n",
       "      <td>25187.250000</td>\n",
       "      <td>2160.000000</td>\n",
       "      <td>2160.000000</td>\n",
       "      <td>8.000000</td>\n",
       "      <td>8.000000</td>\n",
       "      <td>0.000000</td>\n",
       "      <td>8.910000</td>\n",
       "      <td>0.130000</td>\n",
       "      <td>194.400000</td>\n",
       "      <td>0.000000</td>\n",
       "      <td>105.000000</td>\n",
       "      <td>0.000000</td>\n",
       "    </tr>\n",
       "    <tr>\n",
       "      <td>max</td>\n",
       "      <td>33683.000000</td>\n",
       "      <td>2160.000000</td>\n",
       "      <td>7020.000000</td>\n",
       "      <td>130.940000</td>\n",
       "      <td>130.940000</td>\n",
       "      <td>1.000000</td>\n",
       "      <td>10.000000</td>\n",
       "      <td>1.000000</td>\n",
       "      <td>2160.000000</td>\n",
       "      <td>30.000000</td>\n",
       "      <td>464.000000</td>\n",
       "      <td>1.000000</td>\n",
       "    </tr>\n",
       "  </tbody>\n",
       "</table>\n",
       "</div>"
      ],
      "text/plain": [
       "                 0             1             2             3             4   \\\n",
       "count  14084.000000  14084.000000  14084.000000  14084.000000  14084.000000   \n",
       "mean   16772.491551   1591.281685   1678.608634      7.103791      7.543805   \n",
       "std     9691.807248    504.340663    654.838599      4.931673      5.560129   \n",
       "min        2.000000    216.000000    216.000000      3.860000      3.860000   \n",
       "25%     8368.000000   1188.000000   1188.000000      5.330000      5.330000   \n",
       "50%    16711.500000   1620.000000   1620.000000      5.950000      6.070000   \n",
       "75%    25187.250000   2160.000000   2160.000000      8.000000      8.000000   \n",
       "max    33683.000000   2160.000000   7020.000000    130.940000    130.940000   \n",
       "\n",
       "                 5             6             7             8             9   \\\n",
       "count  14084.000000  14084.000000  14084.000000  14084.000000  14084.000000   \n",
       "mean       0.160750      8.909795      0.125659    189.888983      0.070222   \n",
       "std        0.367313      0.643406      0.241206    371.084010      0.472157   \n",
       "min        0.000000      1.000000      0.000000      0.000000      0.000000   \n",
       "25%        0.000000      8.910000      0.000000      0.000000      0.000000   \n",
       "50%        0.000000      8.910000      0.000000      0.000000      0.000000   \n",
       "75%        0.000000      8.910000      0.130000    194.400000      0.000000   \n",
       "max        1.000000     10.000000      1.000000   2160.000000     30.000000   \n",
       "\n",
       "                 10            11  \n",
       "count  14084.000000  14084.000000  \n",
       "mean      61.935033      0.158833  \n",
       "std       88.207634      0.365533  \n",
       "min        0.000000      0.000000  \n",
       "25%        0.000000      0.000000  \n",
       "50%       11.000000      0.000000  \n",
       "75%      105.000000      0.000000  \n",
       "max      464.000000      1.000000  "
      ]
     },
     "execution_count": 4,
     "metadata": {},
     "output_type": "execute_result"
    }
   ],
   "source": [
    "data.describe()"
   ]
  },
  {
   "cell_type": "markdown",
   "metadata": {},
   "source": [
    "Here 1st col is ID of customer and last col is Target.\n",
    "\n",
    "* 1: Customer will buy.\n",
    "\n",
    "* 0: Not buy"
   ]
  },
  {
   "cell_type": "code",
   "execution_count": 5,
   "metadata": {},
   "outputs": [],
   "source": [
    "unscaled_data = data.values   # Converting dataframe to np.arrays"
   ]
  },
  {
   "cell_type": "code",
   "execution_count": 6,
   "metadata": {},
   "outputs": [
    {
     "data": {
      "text/plain": [
       "(14084, 10)"
      ]
     },
     "execution_count": 6,
     "metadata": {},
     "output_type": "execute_result"
    }
   ],
   "source": [
    "unscaled_inputs_all = unscaled_data[:,1:-1]\n",
    "targets_all = unscaled_data[:,-1]\n",
    "unscaled_inputs_all.shape"
   ]
  },
  {
   "cell_type": "code",
   "execution_count": 7,
   "metadata": {},
   "outputs": [
    {
     "data": {
      "text/plain": [
       "0    11847\n",
       "1     2237\n",
       "Name: 11, dtype: int64"
      ]
     },
     "execution_count": 7,
     "metadata": {},
     "output_type": "execute_result"
    }
   ],
   "source": [
    "data[11].value_counts()"
   ]
  },
  {
   "cell_type": "markdown",
   "metadata": {},
   "source": [
    "## Balancing Data\n",
    "\n",
    "Since out data is unbalanced... lots of 0's. So we need to balance data."
   ]
  },
  {
   "cell_type": "code",
   "execution_count": 8,
   "metadata": {},
   "outputs": [
    {
     "data": {
      "text/plain": [
       "2237"
      ]
     },
     "execution_count": 8,
     "metadata": {},
     "output_type": "execute_result"
    }
   ],
   "source": [
    "target_ones = int(np.sum(targets_all))\n",
    "target_ones"
   ]
  },
  {
   "cell_type": "code",
   "execution_count": 9,
   "metadata": {},
   "outputs": [
    {
     "data": {
      "text/plain": [
       "11847"
      ]
     },
     "execution_count": 9,
     "metadata": {},
     "output_type": "execute_result"
    }
   ],
   "source": [
    "indices_to_remove = []\n",
    "zero_index_counter = 0\n",
    "\n",
    "for i in range(targets_all.shape[0]):\n",
    "    if targets_all[i] == 0:\n",
    "        zero_index_counter = zero_index_counter +1\n",
    "        if zero_index_counter > target_ones:\n",
    "            indices_to_remove.append(i)\n",
    "zero_index_counter "
   ]
  },
  {
   "cell_type": "code",
   "execution_count": 10,
   "metadata": {},
   "outputs": [
    {
     "data": {
      "text/plain": [
       "9610"
      ]
     },
     "execution_count": 10,
     "metadata": {},
     "output_type": "execute_result"
    }
   ],
   "source": [
    "len(indices_to_remove)"
   ]
  },
  {
   "cell_type": "code",
   "execution_count": 11,
   "metadata": {},
   "outputs": [],
   "source": [
    "unscaled_balanced_input = np.delete(unscaled_inputs_all,indices_to_remove,axis=0 )"
   ]
  },
  {
   "cell_type": "code",
   "execution_count": 12,
   "metadata": {},
   "outputs": [],
   "source": [
    "target_balanced  = np.delete(targets_all, indices_to_remove, axis=0)"
   ]
  },
  {
   "cell_type": "code",
   "execution_count": 13,
   "metadata": {},
   "outputs": [
    {
     "data": {
      "text/plain": [
       "2237.0"
      ]
     },
     "execution_count": 13,
     "metadata": {},
     "output_type": "execute_result"
    }
   ],
   "source": [
    "sum(target_balanced)   # Total 2237 target are 1 and we only kept same number of 0 targets and removed others."
   ]
  },
  {
   "cell_type": "markdown",
   "metadata": {},
   "source": [
    "## Shuffling the data\n",
    "\n",
    "As the data may be stored based on the timestamp so we need to randomly shuffle dataa."
   ]
  },
  {
   "cell_type": "code",
   "execution_count": 14,
   "metadata": {},
   "outputs": [],
   "source": [
    "shuffled_indicies = np.arange(unscaled_balanced_input.shape[0])"
   ]
  },
  {
   "cell_type": "code",
   "execution_count": 15,
   "metadata": {},
   "outputs": [],
   "source": [
    "np.random.shuffle(shuffled_indicies)"
   ]
  },
  {
   "cell_type": "code",
   "execution_count": 16,
   "metadata": {},
   "outputs": [],
   "source": [
    "shuffled_balanced_input = unscaled_balanced_input[shuffled_indicies]"
   ]
  },
  {
   "cell_type": "code",
   "execution_count": 17,
   "metadata": {},
   "outputs": [],
   "source": [
    "shuffled_balanced_target  = target_balanced[shuffled_indicies]"
   ]
  },
  {
   "cell_type": "code",
   "execution_count": 18,
   "metadata": {},
   "outputs": [
    {
     "data": {
      "text/plain": [
       "2237.0"
      ]
     },
     "execution_count": 18,
     "metadata": {},
     "output_type": "execute_result"
    }
   ],
   "source": [
    "sum(shuffled_balanced_target)"
   ]
  },
  {
   "cell_type": "markdown",
   "metadata": {},
   "source": [
    "## Standardising Data"
   ]
  },
  {
   "cell_type": "code",
   "execution_count": 19,
   "metadata": {},
   "outputs": [],
   "source": [
    "from sklearn.preprocessing import StandardScaler"
   ]
  },
  {
   "cell_type": "code",
   "execution_count": 20,
   "metadata": {},
   "outputs": [],
   "source": [
    "scalar = StandardScaler()"
   ]
  },
  {
   "cell_type": "code",
   "execution_count": 21,
   "metadata": {},
   "outputs": [],
   "source": [
    "scaled_input = scalar.fit_transform(shuffled_balanced_input)"
   ]
  },
  {
   "cell_type": "markdown",
   "metadata": {},
   "source": [
    "## Splitting into train.test,validation set\n",
    "\n",
    "* 80,10,10% split"
   ]
  },
  {
   "cell_type": "code",
   "execution_count": 22,
   "metadata": {},
   "outputs": [],
   "source": [
    "sample_count = scaled_input.shape[0]"
   ]
  },
  {
   "cell_type": "code",
   "execution_count": 23,
   "metadata": {},
   "outputs": [],
   "source": [
    "train_count = int(0.8*sample_count)\n",
    "val_count = int(0.1*sample_count)\n",
    "test_count = sample_count-train_count-val_count"
   ]
  },
  {
   "cell_type": "code",
   "execution_count": 24,
   "metadata": {},
   "outputs": [],
   "source": [
    "X_train = scaled_input[ : train_count]"
   ]
  },
  {
   "cell_type": "code",
   "execution_count": 25,
   "metadata": {},
   "outputs": [],
   "source": [
    "y_train = shuffled_balanced_target[ : train_count]"
   ]
  },
  {
   "cell_type": "code",
   "execution_count": 26,
   "metadata": {},
   "outputs": [],
   "source": [
    "X_val = scaled_input[train_count : train_count+val_count]\n",
    "y_val = shuffled_balanced_target[train_count : train_count+val_count]"
   ]
  },
  {
   "cell_type": "code",
   "execution_count": 27,
   "metadata": {},
   "outputs": [],
   "source": [
    "X_test = scaled_input[train_count+val_count : ]\n",
    "y_test = shuffled_balanced_target[train_count+val_count : ]"
   ]
  },
  {
   "cell_type": "markdown",
   "metadata": {},
   "source": [
    "#### Making sure each set is balanced"
   ]
  },
  {
   "cell_type": "code",
   "execution_count": 28,
   "metadata": {},
   "outputs": [
    {
     "name": "stdout",
     "output_type": "stream",
     "text": [
      "1794.0 3579 0.501257334450964\n",
      "209.0 447 0.46756152125279643\n",
      "234.0 448 0.5223214285714286\n"
     ]
    }
   ],
   "source": [
    "print(np.sum(y_train), train_count , np.sum(y_train)/train_count)\n",
    "print(np.sum(y_val), val_count , np.sum(y_val)/val_count)\n",
    "print(np.sum(y_test), test_count , np.sum(y_test)/test_count)"
   ]
  },
  {
   "cell_type": "markdown",
   "metadata": {},
   "source": [
    "## Saving our preprocessed data in NPZ files\n",
    "\n",
    "Just to directly load data and build our model."
   ]
  },
  {
   "cell_type": "code",
   "execution_count": 29,
   "metadata": {},
   "outputs": [],
   "source": [
    "np.savez('Audiobooks_data_train', inputs=X_train, targets=y_train)\n",
    "np.savez('Audiobooks_data_validation', inputs=X_val, targets=y_val)\n",
    "np.savez('Audiobooks_data_test', inputs=X_train, targets=y_test)"
   ]
  },
  {
   "cell_type": "markdown",
   "metadata": {},
   "source": [
    "Now we can directly load these files using np.load() without performing the above preprocessing steps."
   ]
  },
  {
   "cell_type": "markdown",
   "metadata": {},
   "source": [
    "## Preparing data for model"
   ]
  },
  {
   "cell_type": "code",
   "execution_count": 30,
   "metadata": {},
   "outputs": [],
   "source": [
    "X_train = X_train.astype(np.float)"
   ]
  },
  {
   "cell_type": "code",
   "execution_count": 31,
   "metadata": {},
   "outputs": [],
   "source": [
    "y_train = y_train.astype(np.int)"
   ]
  },
  {
   "cell_type": "code",
   "execution_count": 32,
   "metadata": {},
   "outputs": [],
   "source": [
    "X_val =X_val.astype(np.float)"
   ]
  },
  {
   "cell_type": "code",
   "execution_count": 33,
   "metadata": {},
   "outputs": [],
   "source": [
    "y_val =y_val.astype(np.int)"
   ]
  },
  {
   "cell_type": "code",
   "execution_count": 34,
   "metadata": {},
   "outputs": [],
   "source": [
    "X_test = X_test.astype(np.float)"
   ]
  },
  {
   "cell_type": "code",
   "execution_count": 35,
   "metadata": {},
   "outputs": [],
   "source": [
    "y_test =y_test.astype(np.int)"
   ]
  },
  {
   "cell_type": "markdown",
   "metadata": {},
   "source": [
    "## Model training"
   ]
  },
  {
   "cell_type": "code",
   "execution_count": 36,
   "metadata": {},
   "outputs": [],
   "source": [
    "import tensorflow as tf"
   ]
  },
  {
   "cell_type": "code",
   "execution_count": 37,
   "metadata": {},
   "outputs": [],
   "source": [
    "model = tf.keras.Sequential([tf.keras.layers.Dense(50,activation='relu'),\n",
    "                            tf.keras.layers.Dense(50,activation='relu'),\n",
    "                            tf.keras.layers.Dense(1,activation='sigmoid')])                            "
   ]
  },
  {
   "cell_type": "code",
   "execution_count": 38,
   "metadata": {},
   "outputs": [],
   "source": [
    "model.compile(optimizer='adam',loss='binary_crossentropy',metrics=['accuracy'])"
   ]
  },
  {
   "cell_type": "code",
   "execution_count": 39,
   "metadata": {},
   "outputs": [],
   "source": [
    "earlyStopping = tf.keras.callbacks.EarlyStopping(patience=10)  # It will ckeck previous 10 val_loss and if they are increasing, it will stop the training to prevent overfitting"
   ]
  },
  {
   "cell_type": "code",
   "execution_count": 40,
   "metadata": {},
   "outputs": [
    {
     "name": "stdout",
     "output_type": "stream",
     "text": [
      "Train on 3579 samples, validate on 447 samples\n",
      "Epoch 1/100\n",
      "3579/3579 [==============================] - 2s 556us/sample - loss: 0.6264 - accuracy: 0.6373 - val_loss: 0.5482 - val_accuracy: 0.6823\n",
      "Epoch 2/100\n",
      "3579/3579 [==============================] - 1s 184us/sample - loss: 0.4916 - accuracy: 0.7538 - val_loss: 0.4649 - val_accuracy: 0.7763\n",
      "Epoch 3/100\n",
      "3579/3579 [==============================] - 1s 183us/sample - loss: 0.4273 - accuracy: 0.7734 - val_loss: 0.4279 - val_accuracy: 0.7785\n",
      "Epoch 4/100\n",
      "3579/3579 [==============================] - 1s 142us/sample - loss: 0.3955 - accuracy: 0.7843 - val_loss: 0.4055 - val_accuracy: 0.7875\n",
      "Epoch 5/100\n",
      "3579/3579 [==============================] - 1s 168us/sample - loss: 0.3772 - accuracy: 0.8036 - val_loss: 0.3850 - val_accuracy: 0.8031\n",
      "Epoch 6/100\n",
      "3579/3579 [==============================] - 1s 145us/sample - loss: 0.3658 - accuracy: 0.8039 - val_loss: 0.3780 - val_accuracy: 0.8054\n",
      "Epoch 7/100\n",
      "3579/3579 [==============================] - 0s 136us/sample - loss: 0.3562 - accuracy: 0.8114 - val_loss: 0.3678 - val_accuracy: 0.7987\n",
      "Epoch 8/100\n",
      "3579/3579 [==============================] - 1s 142us/sample - loss: 0.3512 - accuracy: 0.8072 - val_loss: 0.3575 - val_accuracy: 0.8188\n",
      "Epoch 9/100\n",
      "3579/3579 [==============================] - 0s 138us/sample - loss: 0.3465 - accuracy: 0.8134 - val_loss: 0.3647 - val_accuracy: 0.7942\n",
      "Epoch 10/100\n",
      "3579/3579 [==============================] - 0s 128us/sample - loss: 0.3515 - accuracy: 0.8027 - val_loss: 0.3493 - val_accuracy: 0.8255\n",
      "Epoch 11/100\n",
      "3579/3579 [==============================] - 0s 116us/sample - loss: 0.3402 - accuracy: 0.8128 - val_loss: 0.3521 - val_accuracy: 0.8143\n",
      "Epoch 12/100\n",
      "3579/3579 [==============================] - 1s 166us/sample - loss: 0.3381 - accuracy: 0.8173 - val_loss: 0.3486 - val_accuracy: 0.8210\n",
      "Epoch 13/100\n",
      "3579/3579 [==============================] - 0s 117us/sample - loss: 0.3360 - accuracy: 0.8128 - val_loss: 0.3458 - val_accuracy: 0.8210\n",
      "Epoch 14/100\n",
      "3579/3579 [==============================] - 0s 122us/sample - loss: 0.3343 - accuracy: 0.8223 - val_loss: 0.3390 - val_accuracy: 0.8188\n",
      "Epoch 15/100\n",
      "3579/3579 [==============================] - 1s 158us/sample - loss: 0.3319 - accuracy: 0.8217 - val_loss: 0.3628 - val_accuracy: 0.7875\n",
      "Epoch 16/100\n",
      "3579/3579 [==============================] - 0s 134us/sample - loss: 0.3313 - accuracy: 0.8195 - val_loss: 0.3456 - val_accuracy: 0.8188\n",
      "Epoch 17/100\n",
      "3579/3579 [==============================] - 1s 157us/sample - loss: 0.3289 - accuracy: 0.8192 - val_loss: 0.3359 - val_accuracy: 0.8233\n",
      "Epoch 18/100\n",
      "3579/3579 [==============================] - 0s 139us/sample - loss: 0.3272 - accuracy: 0.8184 - val_loss: 0.3374 - val_accuracy: 0.8255\n",
      "Epoch 19/100\n",
      "3579/3579 [==============================] - 0s 130us/sample - loss: 0.3268 - accuracy: 0.8181 - val_loss: 0.3356 - val_accuracy: 0.8367\n",
      "Epoch 20/100\n",
      "3579/3579 [==============================] - 1s 150us/sample - loss: 0.3250 - accuracy: 0.8175 - val_loss: 0.3300 - val_accuracy: 0.8345\n",
      "Epoch 21/100\n",
      "3579/3579 [==============================] - 1s 141us/sample - loss: 0.3253 - accuracy: 0.8237 - val_loss: 0.3375 - val_accuracy: 0.8255\n",
      "Epoch 22/100\n",
      "3579/3579 [==============================] - 1s 143us/sample - loss: 0.3254 - accuracy: 0.8203 - val_loss: 0.3337 - val_accuracy: 0.8233\n",
      "Epoch 23/100\n",
      "3579/3579 [==============================] - 1s 140us/sample - loss: 0.3242 - accuracy: 0.8181 - val_loss: 0.3357 - val_accuracy: 0.8322\n",
      "Epoch 24/100\n",
      "3579/3579 [==============================] - 0s 136us/sample - loss: 0.3231 - accuracy: 0.8198 - val_loss: 0.3359 - val_accuracy: 0.8322\n",
      "Epoch 25/100\n",
      "3579/3579 [==============================] - 0s 136us/sample - loss: 0.3232 - accuracy: 0.8173 - val_loss: 0.3274 - val_accuracy: 0.8300\n",
      "Epoch 26/100\n",
      "3579/3579 [==============================] - 0s 139us/sample - loss: 0.3195 - accuracy: 0.8226 - val_loss: 0.3375 - val_accuracy: 0.8210\n",
      "Epoch 27/100\n",
      "3579/3579 [==============================] - 1s 140us/sample - loss: 0.3199 - accuracy: 0.8229 - val_loss: 0.3309 - val_accuracy: 0.8255\n",
      "Epoch 28/100\n",
      "3579/3579 [==============================] - 1s 143us/sample - loss: 0.3188 - accuracy: 0.8251 - val_loss: 0.3327 - val_accuracy: 0.8255\n",
      "Epoch 29/100\n",
      "3579/3579 [==============================] - 1s 149us/sample - loss: 0.3174 - accuracy: 0.8248 - val_loss: 0.3408 - val_accuracy: 0.8166\n",
      "Epoch 30/100\n",
      "3579/3579 [==============================] - 0s 124us/sample - loss: 0.3193 - accuracy: 0.8237 - val_loss: 0.3305 - val_accuracy: 0.8233\n",
      "Epoch 31/100\n",
      "3579/3579 [==============================] - 1s 154us/sample - loss: 0.3173 - accuracy: 0.8243 - val_loss: 0.3371 - val_accuracy: 0.8255\n",
      "Epoch 32/100\n",
      "3579/3579 [==============================] - 0s 134us/sample - loss: 0.3162 - accuracy: 0.8284 - val_loss: 0.3299 - val_accuracy: 0.8255\n",
      "Epoch 33/100\n",
      "3579/3579 [==============================] - 0s 122us/sample - loss: 0.3158 - accuracy: 0.8279 - val_loss: 0.3250 - val_accuracy: 0.8389\n",
      "Epoch 34/100\n",
      "3579/3579 [==============================] - 1s 151us/sample - loss: 0.3171 - accuracy: 0.8209 - val_loss: 0.3326 - val_accuracy: 0.8300\n",
      "Epoch 35/100\n",
      "3579/3579 [==============================] - 0s 135us/sample - loss: 0.3143 - accuracy: 0.8290 - val_loss: 0.3283 - val_accuracy: 0.8322\n",
      "Epoch 36/100\n",
      "3579/3579 [==============================] - 1s 171us/sample - loss: 0.3143 - accuracy: 0.8265 - val_loss: 0.3432 - val_accuracy: 0.8255\n",
      "Epoch 37/100\n",
      "3579/3579 [==============================] - 1s 219us/sample - loss: 0.3163 - accuracy: 0.8287 - val_loss: 0.3360 - val_accuracy: 0.8143\n",
      "Epoch 38/100\n",
      "3579/3579 [==============================] - 1s 150us/sample - loss: 0.3156 - accuracy: 0.8217 - val_loss: 0.3294 - val_accuracy: 0.8345\n",
      "Epoch 39/100\n",
      "3579/3579 [==============================] - 1s 180us/sample - loss: 0.3139 - accuracy: 0.8248 - val_loss: 0.3307 - val_accuracy: 0.8300\n",
      "Epoch 40/100\n",
      "3579/3579 [==============================] - 1s 190us/sample - loss: 0.3127 - accuracy: 0.8256 - val_loss: 0.3412 - val_accuracy: 0.8188\n",
      "Epoch 41/100\n",
      "3579/3579 [==============================] - 1s 178us/sample - loss: 0.3162 - accuracy: 0.8212 - val_loss: 0.3362 - val_accuracy: 0.8166\n",
      "Epoch 42/100\n",
      "3579/3579 [==============================] - 1s 202us/sample - loss: 0.3149 - accuracy: 0.8226 - val_loss: 0.3328 - val_accuracy: 0.8188\n",
      "Epoch 43/100\n",
      "3579/3579 [==============================] - 1s 167us/sample - loss: 0.3145 - accuracy: 0.8268 - val_loss: 0.3464 - val_accuracy: 0.8143\n"
     ]
    },
    {
     "data": {
      "text/plain": [
       "<tensorflow.python.keras.callbacks.History at 0x7fca3c753510>"
      ]
     },
     "execution_count": 40,
     "metadata": {},
     "output_type": "execute_result"
    }
   ],
   "source": [
    "model.fit(X_train,y_train,\n",
    "          epochs=100,\n",
    "          batch_size=100,\n",
    "          validation_data=(X_val,y_val),\n",
    "          callbacks=[earlyStopping]\n",
    "     )"
   ]
  },
  {
   "cell_type": "code",
   "execution_count": 41,
   "metadata": {},
   "outputs": [],
   "source": [
    "from sklearn.metrics import confusion_matrix,classification_report"
   ]
  },
  {
   "cell_type": "code",
   "execution_count": 42,
   "metadata": {},
   "outputs": [],
   "source": [
    "pred = model.predict_classes(X_test)"
   ]
  },
  {
   "cell_type": "code",
   "execution_count": 43,
   "metadata": {},
   "outputs": [
    {
     "name": "stdout",
     "output_type": "stream",
     "text": [
      "[[154  60]\n",
      " [ 21 213]]\n"
     ]
    }
   ],
   "source": [
    "print(confusion_matrix(y_test,pred))"
   ]
  },
  {
   "cell_type": "code",
   "execution_count": 44,
   "metadata": {},
   "outputs": [
    {
     "name": "stdout",
     "output_type": "stream",
     "text": [
      "              precision    recall  f1-score   support\n",
      "\n",
      "           0       0.88      0.72      0.79       214\n",
      "           1       0.78      0.91      0.84       234\n",
      "\n",
      "    accuracy                           0.82       448\n",
      "   macro avg       0.83      0.81      0.82       448\n",
      "weighted avg       0.83      0.82      0.82       448\n",
      "\n"
     ]
    }
   ],
   "source": [
    "print(classification_report(y_test,pred))"
   ]
  },
  {
   "cell_type": "markdown",
   "metadata": {},
   "source": [
    "### I also tried the data without balancing and shuffling but it resulted in very Low Precision and Recall for class 1. That is why I first balanced the class and then shuffled the rows so that is also remains balanced when we split it into test, train and validation set.\n",
    "\n",
    "Using this model, a company can focus more on the customers who are more likely to buy the new audiobook!"
   ]
  },
  {
   "cell_type": "code",
   "execution_count": null,
   "metadata": {},
   "outputs": [],
   "source": []
  }
 ],
 "metadata": {
  "kernelspec": {
   "display_name": "Python 3",
   "language": "python",
   "name": "python3"
  },
  "language_info": {
   "codemirror_mode": {
    "name": "ipython",
    "version": 3
   },
   "file_extension": ".py",
   "mimetype": "text/x-python",
   "name": "python",
   "nbconvert_exporter": "python",
   "pygments_lexer": "ipython3",
   "version": "3.7.4"
  }
 },
 "nbformat": 4,
 "nbformat_minor": 2
}
